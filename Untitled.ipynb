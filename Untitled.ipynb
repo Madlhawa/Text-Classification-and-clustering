{
 "cells": [
  {
   "cell_type": "code",
   "execution_count": 3,
   "metadata": {},
   "outputs": [
    {
     "name": "stdout",
     "output_type": "stream",
     "text": [
      "Training score: 95.1%\n",
      "Testing score: 85.1%\n"
     ]
    }
   ],
   "source": [
    "from sklearn.datasets import load_files\n",
    "from sklearn.feature_extraction.text import TfidfVectorizer\n",
    "from sklearn.naive_bayes import MultinomialNB\n",
    "\n",
    "# Load the text data\n",
    "categories = [\n",
    "    'alt.atheism',\n",
    "    'talk.religion.misc',\n",
    "    'comp.graphics',\n",
    "    'sci.space',\n",
    "]\n",
    "twenty_train_small = load_files('./20news-bydate/20news-bydate-train',\n",
    "    categories=categories, encoding='latin-1')\n",
    "twenty_test_small = load_files('./20news-bydate/20news-bydate-test',\n",
    "    categories=categories, encoding='latin-1')\n",
    "\n",
    "# Turn the text documents into vectors of word frequencies\n",
    "vectorizer = TfidfVectorizer(min_df=2)\n",
    "X_train = vectorizer.fit_transform(twenty_train_small.data)\n",
    "y_train = twenty_train_small.target\n",
    "\n",
    "# Fit a classifier on the training set\n",
    "classifier = MultinomialNB().fit(X_train, y_train)\n",
    "print(\"Training score: {0:.1f}%\".format(\n",
    "    classifier.score(X_train, y_train) * 100))\n",
    "\n",
    "# Evaluate the classifier on the testing set\n",
    "X_test = vectorizer.transform(twenty_test_small.data)\n",
    "y_test = twenty_test_small.target\n",
    "print(\"Testing score: {0:.1f}%\".format(\n",
    "    classifier.score(X_test, y_test) * 100))"
   ]
  },
  {
   "cell_type": "code",
   "execution_count": null,
   "metadata": {},
   "outputs": [],
   "source": []
  }
 ],
 "metadata": {
  "kernelspec": {
   "display_name": "Python 3",
   "language": "python",
   "name": "python3"
  },
  "language_info": {
   "codemirror_mode": {
    "name": "ipython",
    "version": 3
   },
   "file_extension": ".py",
   "mimetype": "text/x-python",
   "name": "python",
   "nbconvert_exporter": "python",
   "pygments_lexer": "ipython3",
   "version": "3.6.5"
  }
 },
 "nbformat": 4,
 "nbformat_minor": 2
}
